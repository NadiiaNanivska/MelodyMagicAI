{
 "cells": [
  {
   "cell_type": "code",
   "execution_count": null,
   "metadata": {
    "colab": {
     "base_uri": "https://localhost:8080/"
    },
    "execution": {
     "iopub.execute_input": "2025-05-05T11:14:00.930604Z",
     "iopub.status.busy": "2025-05-05T11:14:00.930349Z",
     "iopub.status.idle": "2025-05-05T11:14:28.286418Z",
     "shell.execute_reply": "2025-05-05T11:14:28.285235Z",
     "shell.execute_reply.started": "2025-05-05T11:14:00.930582Z"
    },
    "executionInfo": {
     "elapsed": 10259,
     "status": "ok",
     "timestamp": 1744197794266,
     "user": {
      "displayName": "Надія Нанівська",
      "userId": "05186487169147829034"
     },
     "user_tz": -180
    },
    "id": "GdHL67-WKypB",
    "outputId": "5c2850ea-a163-4b09-cecf-bb1807301d34",
    "trusted": true
   },
   "outputs": [],
   "source": [
    "!pip install -r /kaggle/input/ffnproject/pytorch-mini-bach-nn-counterpoint-release-1.0.0-medium-article-pt-1-2/requirements.txt"
   ]
  },
  {
   "cell_type": "code",
   "execution_count": null,
   "metadata": {
    "colab": {
     "base_uri": "https://localhost:8080/"
    },
    "execution": {
     "iopub.execute_input": "2025-05-05T11:14:28.289481Z",
     "iopub.status.busy": "2025-05-05T11:14:28.289157Z",
     "iopub.status.idle": "2025-05-05T11:15:08.017489Z",
     "shell.execute_reply": "2025-05-05T11:15:08.016382Z",
     "shell.execute_reply.started": "2025-05-05T11:14:28.289452Z"
    },
    "executionInfo": {
     "elapsed": 6941,
     "status": "ok",
     "timestamp": 1744199606424,
     "user": {
      "displayName": "Надія Нанівська",
      "userId": "05186487169147829034"
     },
     "user_tz": -180
    },
    "id": "q-eXNiWiTOQu",
    "outputId": "9a187f5f-3988-46d7-ac2c-8a3a4e258a13",
    "trusted": true
   },
   "outputs": [],
   "source": [
    "!sudo apt install -y fluidsynth\n",
    "!pip install --upgrade pyfluidsynth\n",
    "!pip install pretty_midi\n",
    "!pip install mido"
   ]
  },
  {
   "cell_type": "code",
   "execution_count": null,
   "metadata": {
    "colab": {
     "base_uri": "https://localhost:8080/"
    },
    "execution": {
     "iopub.execute_input": "2025-05-05T11:25:31.468962Z",
     "iopub.status.busy": "2025-05-05T11:25:31.468574Z",
     "iopub.status.idle": "2025-05-05T11:26:07.542163Z",
     "shell.execute_reply": "2025-05-05T11:26:07.540794Z",
     "shell.execute_reply.started": "2025-05-05T11:25:31.468936Z"
    },
    "executionInfo": {
     "elapsed": 29427,
     "status": "ok",
     "timestamp": 1744202384847,
     "user": {
      "displayName": "Надія Нанівська",
      "userId": "05186487169147829034"
     },
     "user_tz": -180
    },
    "id": "JASA2MseStt_",
    "outputId": "10044292-a31d-4190-e047-b708ec2f3714",
    "trusted": true
   },
   "outputs": [],
   "source": [
    "!python /kaggle/input/ffnproject/pytorch-mini-bach-nn-counterpoint-release-1.0.0-medium-article-pt-1-2/main.py"
   ]
  },
  {
   "cell_type": "code",
   "execution_count": null,
   "metadata": {
    "colab": {
     "base_uri": "https://localhost:8080/",
     "height": 75
    },
    "execution": {
     "iopub.execute_input": "2025-05-05T11:26:07.544795Z",
     "iopub.status.busy": "2025-05-05T11:26:07.544431Z",
     "iopub.status.idle": "2025-05-05T11:26:07.635912Z",
     "shell.execute_reply": "2025-05-05T11:26:07.634868Z",
     "shell.execute_reply.started": "2025-05-05T11:26:07.544765Z"
    },
    "executionInfo": {
     "elapsed": 242,
     "status": "ok",
     "timestamp": 1744202385085,
     "user": {
      "displayName": "Надія Нанівська",
      "userId": "05186487169147829034"
     },
     "user_tz": -180
    },
    "id": "AEouLQFyXjkV",
    "outputId": "2c5ed93d-b6ef-4df2-a07f-598252da839d",
    "trusted": true
   },
   "outputs": [],
   "source": [
    "import pretty_midi\n",
    "from IPython import display\n",
    "\n",
    "_SAMPLING_RATE = 16000\n",
    "\n",
    "def display_audio(pm: pretty_midi.PrettyMIDI, seconds=30):\n",
    "  waveform = pm.fluidsynth(fs=_SAMPLING_RATE)\n",
    "  waveform_short = waveform[:seconds*_SAMPLING_RATE]\n",
    "  return display.Audio(waveform_short, rate=_SAMPLING_RATE)\n",
    "\n",
    "pm = pretty_midi.PrettyMIDI('/kaggle/working/generated_midi/generated_file0.mid')\n",
    "display_audio(pm)"
   ]
  }
 ],
 "metadata": {
  "accelerator": "GPU",
  "colab": {
   "gpuType": "T4",
   "provenance": []
  },
  "kaggle": {
   "accelerator": "none",
   "dataSources": [
    {
     "datasetId": 7333716,
     "sourceId": 11684942,
     "sourceType": "datasetVersion"
    }
   ],
   "dockerImageVersionId": 31012,
   "isGpuEnabled": false,
   "isInternetEnabled": true,
   "language": "python",
   "sourceType": "notebook"
  },
  "kernelspec": {
   "display_name": "Python 3",
   "language": "python",
   "name": "python3"
  },
  "language_info": {
   "codemirror_mode": {
    "name": "ipython",
    "version": 3
   },
   "file_extension": ".py",
   "mimetype": "text/x-python",
   "name": "python",
   "nbconvert_exporter": "python",
   "pygments_lexer": "ipython3",
   "version": "3.11.11"
  }
 },
 "nbformat": 4,
 "nbformat_minor": 4
}
